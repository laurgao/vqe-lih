{
 "cells": [
  {
   "cell_type": "code",
   "execution_count": 1,
   "metadata": {},
   "outputs": [],
   "source": [
    "from qiskit.aqua.algorithms import VQE, NumPyEigensolver\n",
    "import matplotlib.pyplot as plt\n",
    "import numpy as np\n",
    "from qiskit.chemistry.components.variational_forms import UCCSD\n",
    "from qiskit.chemistry.components.initial_states import HartreeFock\n",
    "from qiskit.circuit.library import EfficientSU2\n",
    "from qiskit.aqua.components.optimizers import COBYLA, SPSA, SLSQP\n",
    "from qiskit.aqua.operators import Z2Symmetries\n",
    "from qiskit import IBMQ, BasicAer, Aer\n",
    "from qiskit.chemistry.drivers import PySCFDriver, UnitsType\n",
    "from qiskit.chemistry import FermionicOperator\n",
    "from qiskit import IBMQ\n",
    "from qiskit.aqua import QuantumInstance\n",
    "from qiskit.ignis.mitigation.measurement import CompleteMeasFitter\n",
    "from qiskit.providers.aer.noise import NoiseModel"
   ]
  },
  {
   "cell_type": "code",
   "execution_count": 2,
   "metadata": {},
   "outputs": [],
   "source": [
    "# Function takes interatomic distance & returns qubit operator + more info\n",
    "\n",
    "def get_qubit_op(dist):\n",
    "    \n",
    "    # define the molecule (LiH), and configure the interatomic distance for calculations\n",
    "    #create a driver\n",
    "    driver = PySCFDriver(atom=\"Li .0 .0 .0; H .0 .0 \" + str(dist), unit=UnitsType.ANGSTROM, \n",
    "                         charge=0, spin=0, basis='sto3g')\n",
    "    molecule = driver.run()\n",
    "    \n",
    "    #freeze core\n",
    "    freeze_list = [0]\n",
    "    #remove unoccupied orbitals\n",
    "    remove_list = [-3, -2]\n",
    "    \n",
    "    repulsion_energy = molecule.nuclear_repulsion_energy\n",
    "    num_particles = molecule.num_alpha + molecule.num_beta\n",
    "    num_spin_orbitals = molecule.num_orbitals * 2\n",
    "    \n",
    "    remove_list = [x % molecule.num_orbitals for x in remove_list]\n",
    "    freeze_list = [x % molecule.num_orbitals for x in freeze_list]\n",
    "    remove_list = [x - len(freeze_list) for x in remove_list]\n",
    "    remove_list += [x + molecule.num_orbitals - len(freeze_list)  for x in remove_list]\n",
    "    freeze_list += [x + molecule.num_orbitals for x in freeze_list]\n",
    "    \n",
    "    ferOp = FermionicOperator(h1=molecule.one_body_integrals, h2=molecule.two_body_integrals)\n",
    "    ferOp, energy_shift = ferOp.fermion_mode_freezing(freeze_list)\n",
    "    num_spin_orbitals -= len(freeze_list)\n",
    "    num_particles -= len(freeze_list)\n",
    "    ferOp = ferOp.fermion_mode_elimination(remove_list)\n",
    "    num_spin_orbitals -= len(remove_list)\n",
    "    qubitOp = ferOp.mapping(map_type='parity', threshold=0.00000001)\n",
    "    qubitOp = Z2Symmetries.two_qubit_reduction(qubitOp, num_particles)\n",
    "    shift = energy_shift + repulsion_energy\n",
    "    \n",
    "    return qubitOp, num_particles, num_spin_orbitals, shift"
   ]
  },
  {
   "cell_type": "code",
   "execution_count": 3,
   "metadata": {},
   "outputs": [
    {
     "name": "stdout",
     "output_type": "stream",
     "text": [
      "Interatomic Distance: 0.5 VQE Result: -7.03967344173525 Exact Energy: [-7.03973252]\n",
      "Interatomic Distance: 0.6 VQE Result: -7.313308880356205 Exact Energy: [-7.31334583]\n",
      "Interatomic Distance: 0.7 VQE Result: -7.500887035589697 Exact Energy: [-7.50092209]\n",
      "Interatomic Distance: 0.8 VQE Result: -7.630945409912146 Exact Energy: [-7.63097825]\n",
      "Interatomic Distance: 0.9 VQE Result: -7.720781099176417 Exact Energy: [-7.72081241]\n",
      "Interatomic Distance: 1.0 VQE Result: -7.7822115991796394 Exact Energy: [-7.7822424]\n",
      "Interatomic Distance: 1.1 VQE Result: -7.823568080575919 Exact Energy: [-7.82359928]\n",
      "Interatomic Distance: 1.2 VQE Result: -7.85066613181798 Exact Energy: [-7.85069838]\n",
      "Interatomic Distance: 1.3 VQE Result: -7.867529586249594 Exact Energy: [-7.86756329]\n",
      "Interatomic Distance: 1.4 VQE Result: -7.87696625444177 Exact Energy: [-7.87700149]\n",
      "Interatomic Distance: 1.5 VQE Result: -7.8809795073721824 Exact Energy: [-7.88101572]\n",
      "Interatomic Distance: 1.6 VQE Result: -7.881036615999848 Exact Energy: [-7.88107204]\n",
      "Interatomic Distance: 1.7 VQE Result: -7.878236971058161 Exact Energy: [-7.87826817]\n",
      "Interatomic Distance: 1.8 VQE Result: -7.873345218642918 Exact Energy: [-7.87344029]\n",
      "Interatomic Distance: 1.9 VQE Result: -7.867137509342442 Exact Energy: [-7.86723396]\n",
      "Interatomic Distance: 2.0 VQE Result: -7.860068375373119 Exact Energy: [-7.86015321]\n",
      "Interatomic Distance: 2.1 VQE Result: -7.85253522281177 Exact Energy: [-7.85259583]\n",
      "Interatomic Distance: 2.2 VQE Result: -7.844839383036084 Exact Energy: [-7.84487909]\n",
      "Interatomic Distance: 2.3 VQE Result: -7.837212704880968 Exact Energy: [-7.83725797]\n",
      "Interatomic Distance: 2.4 VQE Result: -7.829853246689894 Exact Energy: [-7.829937]\n",
      "Interatomic Distance: 2.5 VQE Result: -7.82293029492846 Exact Energy: [-7.82307664]\n",
      "Interatomic Distance: 2.6 VQE Result: -7.816588433680094 Exact Energy: [-7.81679515]\n",
      "Interatomic Distance: 2.7 VQE Result: -7.810934365987325 Exact Energy: [-7.81116828]\n",
      "Interatomic Distance: 2.8 VQE Result: -7.806014826724668 Exact Energy: [-7.80622956]\n",
      "Interatomic Distance: 2.9 VQE Result: -7.801736629419321 Exact Energy: [-7.8019736]\n",
      "Interatomic Distance: 3.0 VQE Result: -7.798083537672354 Exact Energy: [-7.79836343]\n",
      "Interatomic Distance: 3.1 VQE Result: -7.795060175588559 Exact Energy: [-7.79534045]\n",
      "Interatomic Distance: 3.2 VQE Result: -7.792367420441596 Exact Energy: [-7.79283481]\n",
      "Interatomic Distance: 3.3 VQE Result: -7.789686177290464 Exact Energy: [-7.79077401]\n",
      "Interatomic Distance: 3.4 VQE Result: -7.787375430205128 Exact Energy: [-7.7890889]\n",
      "Interatomic Distance: 3.5 VQE Result: -7.785627444004706 Exact Energy: [-7.78771697]\n",
      "Interatomic Distance: 3.6 VQE Result: -7.78437511527609 Exact Energy: [-7.78660376]\n",
      "Interatomic Distance: 3.7 VQE Result: -7.783495992019935 Exact Energy: [-7.78570291]\n",
      "Interatomic Distance: 3.8 VQE Result: -7.782885673971835 Exact Energy: [-7.78497559]\n",
      "Interatomic Distance: 3.9 VQE Result: -7.78246668047219 Exact Energy: [-7.78438961]\n",
      "All energies have been calculated\n"
     ]
    }
   ],
   "source": [
    "backend = BasicAer.get_backend(\"statevector_simulator\")\n",
    "distances = np.arange(0.5, 4.0, 0.1)\n",
    "exact_energies = []\n",
    "vqe_energies = []\n",
    "optimizer = SLSQP(maxiter=5)\n",
    "\n",
    "for dist in distances:\n",
    "    \n",
    "    # Qubit Operator\n",
    "    qubitOp, num_particles, num_spin_orbitals, shift = get_qubit_op(dist)\n",
    "    result = NumPyEigensolver(qubitOp).run()\n",
    "    exact_energies.append(np.real(result.eigenvalues) + shift)\n",
    "    initial_state = HartreeFock(\n",
    "        num_spin_orbitals,\n",
    "        num_particles,\n",
    "        qubit_mapping='parity'\n",
    "    ) \n",
    "    \n",
    "    # Classical Exact Eigensolver\n",
    "    var_form = UCCSD(\n",
    "        num_orbitals=num_spin_orbitals,\n",
    "        num_particles=num_particles,\n",
    "        initial_state=initial_state,\n",
    "        qubit_mapping='parity'\n",
    "    )\n",
    "    vqe = VQE(qubitOp, var_form, optimizer)\n",
    "    vqe_result = np.real(vqe.run(backend)['eigenvalue'] + shift)\n",
    "    vqe_energies.append(vqe_result)\n",
    "    print(\"Interatomic Distance:\", np.round(dist, 2), \"VQE Result:\", vqe_result, \"Exact Energy:\", exact_energies[-1])\n",
    "    \n",
    "print(\"All energies have been calculated\")"
   ]
  },
  {
   "cell_type": "code",
   "execution_count": 5,
   "metadata": {},
   "outputs": [
    {
     "data": {
      "image/png": "[encoded data removed]",
      "text/plain": [
       "<Figure size 432x288 with 1 Axes>"
      ]
     },
     "metadata": {
      "needs_background": "light"
     },
     "output_type": "display_data"
    }
   ],
   "source": [
    "plt.plot(distances, exact_energies, label=\"Exact Energy\")\n",
    "plt.plot(distances, vqe_energies, label=\"VQE Energy\")\n",
    "plt.xlabel('Atomic distance (Angstrom)')\n",
    "plt.ylabel('Energy')\n",
    "plt.legend()\n",
    "plt.show()"
   ]
  },
  {
   "cell_type": "code",
   "execution_count": null,
   "metadata": {},
   "outputs": [],
   "source": []
  }
 ],
 "metadata": {
  "kernelspec": {
   "display_name": "Python 3",
   "language": "python",
   "name": "python3"
  },
  "language_info": {
   "codemirror_mode": {
    "name": "ipython",
    "version": 3
   },
   "file_extension": ".py",
   "mimetype": "text/x-python",
   "name": "python",
   "nbconvert_exporter": "python",
   "pygments_lexer": "ipython3",
   "version": "3.8.3"
  }
 },
 "nbformat": 4,
 "nbformat_minor": 4
}
